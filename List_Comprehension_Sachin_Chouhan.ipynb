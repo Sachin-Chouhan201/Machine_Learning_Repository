{
  "nbformat": 4,
  "nbformat_minor": 0,
  "metadata": {
    "colab": {
      "provenance": []
    },
    "kernelspec": {
      "name": "python3",
      "display_name": "Python 3"
    },
    "language_info": {
      "name": "python"
    }
  },
  "cells": [
    {
      "cell_type": "code",
      "source": [
        "x = [i for i in range(15)]\n",
        "print(x)"
      ],
      "metadata": {
        "id": "xokNcbjt5elV",
        "colab": {
          "base_uri": "https://localhost:8080/"
        },
        "outputId": "40f9637c-4fc4-428f-9f95-d6e856eaa5b5"
      },
      "execution_count": null,
      "outputs": [
        {
          "output_type": "stream",
          "name": "stdout",
          "text": [
            "[0, 1, 2, 3, 4, 5, 6, 7, 8, 9, 10, 11, 12, 13, 14]\n"
          ]
        }
      ]
    },
    {
      "cell_type": "code",
      "source": [
        "a = [4,6,7,3,2]\n",
        "b = [x*2 for x in a if x > 5]\n",
        "print(a)\n",
        "print(b)"
      ],
      "metadata": {
        "id": "37EPuY6j2vTW",
        "colab": {
          "base_uri": "https://localhost:8080/"
        },
        "outputId": "dfdf665e-3d02-44fc-c296-1d4949412c02"
      },
      "execution_count": null,
      "outputs": [
        {
          "output_type": "stream",
          "name": "stdout",
          "text": [
            "[4, 6, 7, 3, 2]\n",
            "[12, 14]\n"
          ]
        }
      ]
    },
    {
      "cell_type": "code",
      "source": [
        "my_list = [2, 5, 8, 11, 15]\n",
        "new_list = [x*2 if x < 10 else x+1 for x in my_list]\n",
        "print(new_list)\n",
        "print(my_list)"
      ],
      "metadata": {
        "id": "KzcpXZGu6di7",
        "colab": {
          "base_uri": "https://localhost:8080/"
        },
        "outputId": "d3a2d16a-4d0d-4b83-cd3b-e27018b76864"
      },
      "execution_count": null,
      "outputs": [
        {
          "output_type": "stream",
          "name": "stdout",
          "text": [
            "[4, 10, 16, 12, 16]\n",
            "[2, 5, 8, 11, 15]\n"
          ]
        }
      ]
    },
    {
      "cell_type": "code",
      "source": [
        "my_list = [i for i in range(1, 30) if i%2==0 if i%5==0]\n",
        "print(my_list)"
      ],
      "metadata": {
        "id": "csY5o9lL6nTD",
        "colab": {
          "base_uri": "https://localhost:8080/"
        },
        "outputId": "6f92c6aa-f48e-45e6-dcd1-d99ba26314dc"
      },
      "execution_count": null,
      "outputs": [
        {
          "output_type": "stream",
          "name": "stdout",
          "text": [
            "[10, 20]\n"
          ]
        }
      ]
    },
    {
      "cell_type": "code",
      "source": [
        "names = ['Ch','Dh','Eh','cb','Tb','Td']\n",
        "new_names = [name for name in names if name.lower().startswith('c')]\n",
        "print(new_names)"
      ],
      "metadata": {
        "id": "sXPcOeYm27yN",
        "colab": {
          "base_uri": "https://localhost:8080/"
        },
        "outputId": "d17a81d4-6dfa-4775-abb6-f762c63a358f"
      },
      "execution_count": null,
      "outputs": [
        {
          "output_type": "stream",
          "name": "stdout",
          "text": [
            "['Ch', 'cb']\n"
          ]
        }
      ]
    },
    {
      "cell_type": "code",
      "source": [
        "new_list = [num * 2 for num in range(5)]\n",
        "print(new_list)"
      ],
      "metadata": {
        "id": "-XlDO7XA34tf",
        "colab": {
          "base_uri": "https://localhost:8080/"
        },
        "outputId": "60a86ce3-28ac-4cf3-f72e-5b094dde0d18"
      },
      "execution_count": null,
      "outputs": [
        {
          "output_type": "stream",
          "name": "stdout",
          "text": [
            "[0, 2, 4, 6, 8]\n"
          ]
        }
      ]
    },
    {
      "cell_type": "code",
      "source": [
        "new_list = [num for num in range(50) if  num > 20 and num % 2 == 0]\n",
        "print(new_list)"
      ],
      "metadata": {
        "id": "CErX4Qvj3-rW",
        "colab": {
          "base_uri": "https://localhost:8080/"
        },
        "outputId": "b1f53567-12cb-4b02-d814-b69eaed9d742"
      },
      "execution_count": null,
      "outputs": [
        {
          "output_type": "stream",
          "name": "stdout",
          "text": [
            "[22, 24, 26, 28, 30, 32, 34, 36, 38, 40, 42, 44, 46, 48]\n"
          ]
        }
      ]
    },
    {
      "cell_type": "code",
      "source": [
        "fave_language_chars = [letter for letter in \"Python\"]\n",
        "print(fave_language_chars)"
      ],
      "metadata": {
        "id": "z8uvh7m74Fuj",
        "colab": {
          "base_uri": "https://localhost:8080/"
        },
        "outputId": "00732634-6d92-4197-8cad-08e6332384ff"
      },
      "execution_count": null,
      "outputs": [
        {
          "output_type": "stream",
          "name": "stdout",
          "text": [
            "['P', 'y', 't', 'h', 'o', 'n']\n"
          ]
        }
      ]
    },
    {
      "cell_type": "code",
      "execution_count": null,
      "metadata": {
        "id": "xoC4UeWtx_Mx",
        "colab": {
          "base_uri": "https://localhost:8080/"
        },
        "outputId": "593218d2-ab7b-4e5b-ca05-c8d291bc2320"
      },
      "outputs": [
        {
          "output_type": "stream",
          "name": "stdout",
          "text": [
            "[7, 14, 21, 28, 35, 42, 49, 56, 63, 70, 77, 84, 91, 98, 105, 112, 119, 126, 133, 140, 147, 154, 161, 168, 175, 182, 189, 196, 203, 210, 217, 224, 231, 238, 245, 252, 259, 266, 273, 280, 287, 294, 301, 308, 315, 322, 329, 336, 343, 350, 357, 364, 371, 378, 385, 392, 399, 406, 413, 420, 427, 434, 441, 448, 455, 462, 469, 476, 483, 490, 497, 504, 511, 518, 525, 532, 539, 546, 553, 560, 567, 574, 581, 588, 595, 602, 609, 616, 623, 630, 637, 644, 651, 658, 665, 672, 679, 686, 693, 700, 707, 714, 721, 728, 735, 742, 749, 756, 763, 770, 777, 784, 791, 798, 805, 812, 819, 826, 833, 840, 847, 854, 861, 868, 875, 882, 889, 896, 903, 910, 917, 924, 931, 938, 945, 952, 959, 966, 973, 980, 987, 994]\n"
          ]
        }
      ],
      "source": [
        "'''\n",
        "Find all of the numbers from 1-1000 that are divisible by 7\n",
        "'''\n",
        "new_list = [num for num in range(1,1000) if num % 7 == 0]\n",
        "print(new_list)\n"
      ]
    },
    {
      "cell_type": "code",
      "source": [
        "'''\n",
        "Find all of the numbers from 1-1000 that have a 3 in them\n",
        "'''\n",
        "new_list = [num for num in range(1,1000) if '3' in str(num)]# if num % 10 == 3 or num//10==3 or num//100==3]\n",
        "print(new_list)"
      ],
      "metadata": {
        "id": "rQkcovqcyQbw",
        "colab": {
          "base_uri": "https://localhost:8080/"
        },
        "outputId": "4f09b312-369e-4b8f-99ae-af402e8ee288"
      },
      "execution_count": null,
      "outputs": [
        {
          "output_type": "stream",
          "name": "stdout",
          "text": [
            "[3, 13, 23, 30, 31, 32, 33, 34, 35, 36, 37, 38, 39, 43, 53, 63, 73, 83, 93, 103, 113, 123, 130, 131, 132, 133, 134, 135, 136, 137, 138, 139, 143, 153, 163, 173, 183, 193, 203, 213, 223, 230, 231, 232, 233, 234, 235, 236, 237, 238, 239, 243, 253, 263, 273, 283, 293, 300, 301, 302, 303, 304, 305, 306, 307, 308, 309, 310, 311, 312, 313, 314, 315, 316, 317, 318, 319, 320, 321, 322, 323, 324, 325, 326, 327, 328, 329, 330, 331, 332, 333, 334, 335, 336, 337, 338, 339, 340, 341, 342, 343, 344, 345, 346, 347, 348, 349, 350, 351, 352, 353, 354, 355, 356, 357, 358, 359, 360, 361, 362, 363, 364, 365, 366, 367, 368, 369, 370, 371, 372, 373, 374, 375, 376, 377, 378, 379, 380, 381, 382, 383, 384, 385, 386, 387, 388, 389, 390, 391, 392, 393, 394, 395, 396, 397, 398, 399, 403, 413, 423, 430, 431, 432, 433, 434, 435, 436, 437, 438, 439, 443, 453, 463, 473, 483, 493, 503, 513, 523, 530, 531, 532, 533, 534, 535, 536, 537, 538, 539, 543, 553, 563, 573, 583, 593, 603, 613, 623, 630, 631, 632, 633, 634, 635, 636, 637, 638, 639, 643, 653, 663, 673, 683, 693, 703, 713, 723, 730, 731, 732, 733, 734, 735, 736, 737, 738, 739, 743, 753, 763, 773, 783, 793, 803, 813, 823, 830, 831, 832, 833, 834, 835, 836, 837, 838, 839, 843, 853, 863, 873, 883, 893, 903, 913, 923, 930, 931, 932, 933, 934, 935, 936, 937, 938, 939, 943, 953, 963, 973, 983, 993]\n"
          ]
        }
      ]
    },
    {
      "cell_type": "code",
      "source": [
        "'''\n",
        "Count the number of spaces in a string\n",
        "'''\n",
        "some_string = 'the slow solid squid swam sumptuously through the slimy swamp'\n",
        "space=[ch for ch in some_string if ch==' ' ]\n",
        "len(space)"
      ],
      "metadata": {
        "id": "gIz_poFJybA0",
        "colab": {
          "base_uri": "https://localhost:8080/"
        },
        "outputId": "8525d30a-0cbb-4704-9b55-1a7e5a8be264"
      },
      "execution_count": null,
      "outputs": [
        {
          "output_type": "execute_result",
          "data": {
            "text/plain": [
              "9"
            ]
          },
          "metadata": {},
          "execution_count": 34
        }
      ]
    },
    {
      "cell_type": "code",
      "source": [
        "'''\n",
        "Create a list of all the consonants in the string \"Yellow Yaks like yelling and yawning and yesturday they yodled while eating yuky yams\"\n",
        "'''\n",
        "sentence = \"Yellow Yaks like yelling and yawning and yesturday they yodled while eating yuky yams\"\n",
        "vowel=['a','e','i','o','u',' ']\n",
        "consonants=[ch for ch in sentence if ch.lower() not in vowel ]\n",
        "print(consonants)\n",
        "\n"
      ],
      "metadata": {
        "id": "PFOkO8c3yoRD",
        "colab": {
          "base_uri": "https://localhost:8080/"
        },
        "outputId": "7ec3d7bd-7d0f-44ea-ea55-31296ad1aaeb"
      },
      "execution_count": null,
      "outputs": [
        {
          "output_type": "stream",
          "name": "stdout",
          "text": [
            "['Y', 'l', 'l', 'w', 'Y', 'k', 's', 'l', 'k', 'y', 'l', 'l', 'n', 'g', 'n', 'd', 'y', 'w', 'n', 'n', 'g', 'n', 'd', 'y', 's', 't', 'r', 'd', 'y', 't', 'h', 'y', 'y', 'd', 'l', 'd', 'w', 'h', 'l', 't', 'n', 'g', 'y', 'k', 'y', 'y', 'm', 's']\n"
          ]
        }
      ]
    },
    {
      "cell_type": "code",
      "source": [
        "'''\n",
        " Get the index and the value as a tuple for items in the list [\"hi\", 4, 8.99, 'apple', ('t,b','n')].  Result would look like [(index, value), (index, value)]\n",
        " '''\n",
        "listk=[\"hi\", 4, 8.99, 'apple', ('t,b','n')]\n",
        "ans=[(i,j) for i,j in enumerate(listk)]\n",
        "print(ans)\n"
      ],
      "metadata": {
        "id": "b7nRCAHEy1dK",
        "colab": {
          "base_uri": "https://localhost:8080/"
        },
        "outputId": "9aafadf0-70ac-4d93-f99f-5313cff88f3a"
      },
      "execution_count": null,
      "outputs": [
        {
          "output_type": "stream",
          "name": "stdout",
          "text": [
            "[(0, 'hi'), (1, 4), (2, 8.99), (3, 'apple'), (4, ('t,b', 'n'))]\n"
          ]
        }
      ]
    },
    {
      "cell_type": "code",
      "source": [
        "'''\n",
        "Find the common numbers in two lists (without using a tuple or set) list_a = [1, 2, 3, 4], list_b = [2, 3, 4, 5]\n",
        "'''\n",
        "list_a =[1, 2, 3, 4]\n",
        "list_b =[2, 3, 4, 5]\n",
        "list_c=[ i for i in list_a if i in list_b]\n",
        "print(list_c)"
      ],
      "metadata": {
        "id": "BruGk2mxy6q9",
        "colab": {
          "base_uri": "https://localhost:8080/"
        },
        "outputId": "166d46c3-5dba-406c-dd1d-71be29661875"
      },
      "execution_count": null,
      "outputs": [
        {
          "output_type": "stream",
          "name": "stdout",
          "text": [
            "[2, 3, 4]\n"
          ]
        }
      ]
    },
    {
      "cell_type": "code",
      "source": [
        "'''\n",
        "Get only the numbers in a sentence like 'In 1984 there were 13 instances of a protest with over 1000 people attending'.  Result is a list of numbers like [3,4,5]\n",
        "'''\n",
        "sentence = 'In 1984 there were 13 instances of a protest with over 1000 people attending'\n",
        "msg=sentence.split()\n",
        "list_a=[ch for ch in msg if ch.isnumeric() ]\n",
        "print(list_a)\n",
        "list_b=[ch for ch in msg if not ch.isalpha() ]\n",
        "print(list_b)"
      ],
      "metadata": {
        "id": "JU9uVJq2zBVB",
        "colab": {
          "base_uri": "https://localhost:8080/"
        },
        "outputId": "ea50f751-d2bc-4fc3-a670-751da50c6f17"
      },
      "execution_count": null,
      "outputs": [
        {
          "output_type": "stream",
          "name": "stdout",
          "text": [
            "['1984', '13', '1000']\n",
            "['1984', '13', '1000']\n"
          ]
        }
      ]
    },
    {
      "cell_type": "code",
      "source": [
        "'''\n",
        "Produce a list of tuples consisting of only the matching numbers in these lists list_a = [1, 2, 3,4,5,6,7,8,9], list_b = [2, 7, 1, 12].  Result would look like (4,4), (12,12)\n",
        "'''\n",
        "list_a = [1, 2, 3,4,5,6,7,8,9] \n",
        "list_b = [2, 7, 1, 12]\n",
        "ans=[(i,i) for i in list_a if i  in list_b]\n",
        "print(ans)"
      ],
      "metadata": {
        "id": "lc9rl2Nazz1O",
        "colab": {
          "base_uri": "https://localhost:8080/"
        },
        "outputId": "7fdaea28-7e5f-4914-b575-0c484aa1d977"
      },
      "execution_count": null,
      "outputs": [
        {
          "output_type": "stream",
          "name": "stdout",
          "text": [
            "[(1, 1), (2, 2), (7, 7)]\n"
          ]
        }
      ]
    },
    {
      "cell_type": "code",
      "source": [
        "'''Find all of the words in a string that are less than 4 letters'''\n",
        "sentence = 'On a summer day somner smith went simming in the sun and his red skin stung'\n",
        "msg=sentence.split()\n",
        "ans=[ch for ch in msg if len(ch)<4 ]\n",
        "print(ans)"
      ],
      "metadata": {
        "id": "Lga5eySb0tJ-",
        "colab": {
          "base_uri": "https://localhost:8080/"
        },
        "outputId": "3bd5c1ca-5e4b-4275-ba3d-be9344494760"
      },
      "execution_count": null,
      "outputs": [
        {
          "output_type": "stream",
          "name": "stdout",
          "text": [
            "['On', 'a', 'day', 'in', 'the', 'sun', 'and', 'his', 'red']\n"
          ]
        }
      ]
    },
    {
      "cell_type": "code",
      "source": [
        "''' find the list for two's table '''\n",
        "a = [x*2 for x in range(1,11)]\n",
        "print(a)"
      ],
      "metadata": {
        "colab": {
          "base_uri": "https://localhost:8080/"
        },
        "id": "A0JH7BNaOpz-",
        "outputId": "03d288ad-2abc-49b3-cc19-31cbc206e8c0"
      },
      "execution_count": null,
      "outputs": [
        {
          "output_type": "stream",
          "name": "stdout",
          "text": [
            "[2, 4, 6, 8, 10, 12, 14, 16, 18, 20]\n"
          ]
        }
      ]
    },
    {
      "cell_type": "code",
      "source": [
        "'''find the cube of the no. in list '''\n",
        "cubes = [x*x*x for x in range(1,11)]\n",
        "print(cubes)"
      ],
      "metadata": {
        "colab": {
          "base_uri": "https://localhost:8080/"
        },
        "id": "m5P-OXQbOuQG",
        "outputId": "fae9b044-1283-4f6e-93f4-3b4706175fab"
      },
      "execution_count": null,
      "outputs": [
        {
          "output_type": "stream",
          "name": "stdout",
          "text": [
            "[1, 8, 27, 64, 125, 216, 343, 512, 729, 1000]\n"
          ]
        }
      ]
    },
    {
      "cell_type": "code",
      "source": [
        "''' find the list comprehension for fibonachi series '''\n",
        "n=100\n",
        "if n==0:\n",
        "    fib=[0]\n",
        "elif n==1:\n",
        "    fib=[0,1]\n",
        "else:\n",
        "    fib=[0,1]\n",
        "    for i in range(2,n):\n",
        "        fib.append(fib[i-1]+fib[i-2])\n",
        "print(fib)"
      ],
      "metadata": {
        "colab": {
          "base_uri": "https://localhost:8080/"
        },
        "id": "nLVWiBVmOzVW",
        "outputId": "ad858150-18de-4b9e-e1dc-8fae7fc347c7"
      },
      "execution_count": null,
      "outputs": [
        {
          "output_type": "stream",
          "name": "stdout",
          "text": [
            "[0, 1, 1, 2, 3, 5, 8, 13, 21, 34, 55, 89, 144, 233, 377, 610, 987, 1597, 2584, 4181, 6765, 10946, 17711, 28657, 46368, 75025, 121393, 196418, 317811, 514229, 832040, 1346269, 2178309, 3524578, 5702887, 9227465, 14930352, 24157817, 39088169, 63245986, 102334155, 165580141, 267914296, 433494437, 701408733, 1134903170, 1836311903, 2971215073, 4807526976, 7778742049, 12586269025, 20365011074, 32951280099, 53316291173, 86267571272, 139583862445, 225851433717, 365435296162, 591286729879, 956722026041, 1548008755920, 2504730781961, 4052739537881, 6557470319842, 10610209857723, 17167680177565, 27777890035288, 44945570212853, 72723460248141, 117669030460994, 190392490709135, 308061521170129, 498454011879264, 806515533049393, 1304969544928657, 2111485077978050, 3416454622906707, 5527939700884757, 8944394323791464, 14472334024676221, 23416728348467685, 37889062373143906, 61305790721611591, 99194853094755497, 160500643816367088, 259695496911122585, 420196140727489673, 679891637638612258, 1100087778366101931, 1779979416004714189, 2880067194370816120, 4660046610375530309, 7540113804746346429, 12200160415121876738, 19740274219868223167, 31940434634990099905, 51680708854858323072, 83621143489848422977, 135301852344706746049, 218922995834555169026]\n"
          ]
        }
      ]
    }
  ]
}